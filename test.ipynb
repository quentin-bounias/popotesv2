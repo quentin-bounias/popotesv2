{
 "cells": [
  {
   "cell_type": "code",
   "execution_count": 1,
   "metadata": {},
   "outputs": [],
   "source": [
    "# Import your modules\n",
    "import sys\n",
    "sys.path.append(\"./\")  # Add project root to path"
   ]
  },
  {
   "cell_type": "code",
   "execution_count": null,
   "metadata": {},
   "outputs": [],
   "source": [
    "from src.database import DatabaseManager\n",
    "from src.auth import Authentication\n",
    "from src.wine_tasting import WineTasting"
   ]
  },
  {
   "cell_type": "code",
   "execution_count": null,
   "metadata": {},
   "outputs": [],
   "source": [
    "# Initialize database (creates tables if they don't exist)\n",
    "db = DatabaseManager()\n",
    "\n",
    "# Test user registration\n",
    "try:\n",
    "    user = db.register_user(\"test@example.com\", \"StrongP@ss123\", \"Test User\")\n",
    "    print(f\"User registered: {user}\")\n",
    "except ValueError as e:\n",
    "    print(f\"Registration error: {e}\")\n",
    "\n",
    "# Test authentication\n",
    "auth_result = db.authenticate_user(\"test@example.com\", \"StrongP@ss123\")\n",
    "print(f\"Authentication result: {auth_result}\")\n",
    "\n",
    "# Add a test wine to the database\n",
    "# ... (code to insert test wine)"
   ]
  }
 ],
 "metadata": {
  "kernelspec": {
   "display_name": ".venv",
   "language": "python",
   "name": "python3"
  },
  "language_info": {
   "codemirror_mode": {
    "name": "ipython",
    "version": 3
   },
   "file_extension": ".py",
   "mimetype": "text/x-python",
   "name": "python",
   "nbconvert_exporter": "python",
   "pygments_lexer": "ipython3",
   "version": "3.11.11"
  }
 },
 "nbformat": 4,
 "nbformat_minor": 2
}
